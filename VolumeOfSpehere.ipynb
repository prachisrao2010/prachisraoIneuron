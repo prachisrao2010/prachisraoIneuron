{
 "cells": [
  {
   "cell_type": "code",
   "execution_count": 15,
   "metadata": {},
   "outputs": [
    {
     "name": "stdout",
     "output_type": "stream",
     "text": [
      "6.0 3.14\n",
      "904.3199999999999\n",
      "Volumne of a sphere with Diameter=12 is 904.3199999999999\n"
     ]
    }
   ],
   "source": [
    "#Write a Python program to find the volume of a sphere with diameter 12 cm.\n",
    "#Formula: V=4/3 * π * r power 3\n",
    "import math\n",
    "#print(\"2 to the power of 2 is\", math.pow(2,2)) # (math.pow funtion\n",
    "r=12/2# diameter is 12, so radius is 12/2\n",
    "p=3.14\n",
    "print(r,p)\n",
    "v= (4/3) * p * math.pow(r,3)\n",
    "print(v)\n",
    "print(\"Volumne of a sphere with Diameter=12 is\",v )"
   ]
  },
  {
   "cell_type": "code",
   "execution_count": null,
   "metadata": {},
   "outputs": [],
   "source": []
  }
 ],
 "metadata": {
  "kernelspec": {
   "display_name": "Python 3",
   "language": "python",
   "name": "python3"
  },
  "language_info": {
   "codemirror_mode": {
    "name": "ipython",
    "version": 3
   },
   "file_extension": ".py",
   "mimetype": "text/x-python",
   "name": "python",
   "nbconvert_exporter": "python",
   "pygments_lexer": "ipython3",
   "version": "3.8.5"
  }
 },
 "nbformat": 4,
 "nbformat_minor": 4
}
