{
 "cells": [
  {
   "cell_type": "code",
   "execution_count": 6,
   "metadata": {},
   "outputs": [
    {
     "name": "stdout",
     "output_type": "stream",
     "text": [
      "prachi\n"
     ]
    }
   ],
   "source": [
    "# Write a function filter_long_words() that takes a list of words and an integer n and returns\n",
    "#the list of words that are longer than n.\n",
    "\n",
    "mystr=[]\n",
    "newList=[]\n",
    "\n",
    "# Taking user input for List and Integer\n",
    "i=0\n",
    "while i<3:\n",
    "  userInput=input(f'Enter List Item # {i+1}:')\n",
    "  mystr.append(userInput)\n",
    "  i+=1\n",
    "\n",
    "print('User defined list:',mystr)\n",
    "\n",
    "print(' ')\n",
    "\n",
    "myInt=int(input('Please enter integer: '))\n",
    "\n",
    "def filter_long_words(lst):\n",
    "  for x in lst:\n",
    "    if(len(x)>myInt):\n",
    "      newList.append(x)\n",
    "  print(' ')\n",
    "  print('List of items with greater length',newList)    \n",
    "\n",
    "filter_long_words(mystr)\n",
    "\n"
   ]
  },
  {
   "cell_type": "markdown",
   "metadata": {},
   "source": [
    "3\n"
   ]
  },
  {
   "cell_type": "code",
   "execution_count": null,
   "metadata": {},
   "outputs": [],
   "source": []
  },
  {
   "cell_type": "code",
   "execution_count": null,
   "metadata": {},
   "outputs": [],
   "source": []
  }
 ],
 "metadata": {
  "kernelspec": {
   "display_name": "Python 3",
   "language": "python",
   "name": "python3"
  },
  "language_info": {
   "codemirror_mode": {
    "name": "ipython",
    "version": 3
   },
   "file_extension": ".py",
   "mimetype": "text/x-python",
   "name": "python",
   "nbconvert_exporter": "python",
   "pygments_lexer": "ipython3",
   "version": "3.8.3"
  }
 },
 "nbformat": 4,
 "nbformat_minor": 4
}
