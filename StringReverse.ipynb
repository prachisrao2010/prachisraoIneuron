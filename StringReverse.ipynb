{
 "cells": [
  {
   "cell_type": "code",
   "execution_count": 17,
   "metadata": {},
   "outputs": [
    {
     "name": "stdout",
     "output_type": "stream",
     "text": [
      "Enter First name\n",
      "Prachi\n",
      "Enter Last name\n",
      "Rao\n",
      "Your Name is Prachi Rao\n",
      "Reverse of your name is  ihcarP oaR\n"
     ]
    }
   ],
   "source": [
    "#Write a Python program to accept the user's first and last name and then getting them\n",
    "#printed in the the reverse order with a space between first name and last name.\n",
    "import string\n",
    "import os\n",
    "import datetime\n",
    "print(\"Enter First name\")\n",
    "userFname=input()\n",
    "print(\"Enter Last name\")\n",
    "userLname= input()\n",
    "print(\"Your Name is\", userFname, userLname)\n",
    "print(\"Reverse of your name is \", userFname [::-1], userLname[::-1])"
   ]
  },
  {
   "cell_type": "code",
   "execution_count": null,
   "metadata": {},
   "outputs": [],
   "source": []
  }
 ],
 "metadata": {
  "kernelspec": {
   "display_name": "Python 3",
   "language": "python",
   "name": "python3"
  },
  "language_info": {
   "codemirror_mode": {
    "name": "ipython",
    "version": 3
   },
   "file_extension": ".py",
   "mimetype": "text/x-python",
   "name": "python",
   "nbconvert_exporter": "python",
   "pygments_lexer": "ipython3",
   "version": "3.8.5"
  }
 },
 "nbformat": 4,
 "nbformat_minor": 4
}
